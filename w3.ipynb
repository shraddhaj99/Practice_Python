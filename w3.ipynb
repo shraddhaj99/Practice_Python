{
 "cells": [
  {
   "cell_type": "markdown",
   "id": "5476e7cc",
   "metadata": {},
   "source": [
    "[Python Basic - I](https://www.w3resource.com/python-exercises/python-basic-exercises.php)"
   ]
  },
  {
   "cell_type": "code",
   "execution_count": 6,
   "id": "69e9ed57",
   "metadata": {},
   "outputs": [
    {
     "name": "stdout",
     "output_type": "stream",
     "text": [
      "Python version is 3.13.4 (tags/v3.13.4:8a526ec, Jun  3 2025, 17:46:04) [MSC v.1943 64 bit (AMD64)]\n"
     ]
    }
   ],
   "source": [
    "# version checker\n",
    "import sys\n",
    "\n",
    "print(\"Python version is\", sys.version)"
   ]
  },
  {
   "cell_type": "code",
   "execution_count": 7,
   "id": "c7e4a033",
   "metadata": {},
   "outputs": [
    {
     "name": "stdout",
     "output_type": "stream",
     "text": [
      "2025-07-07 11:50:57.118021\n"
     ]
    }
   ],
   "source": [
    "# current date time \n",
    "\n",
    "from datetime import datetime\n",
    "\n",
    "now = datetime.now()\n",
    "\n",
    "print(now)"
   ]
  },
  {
   "cell_type": "code",
   "execution_count": 8,
   "id": "2e76734a",
   "metadata": {},
   "outputs": [
    {
     "name": "stdout",
     "output_type": "stream",
     "text": [
      "Area = 78.53981633974483\n"
     ]
    }
   ],
   "source": [
    "# circle area calculator\n",
    "\n",
    "from math import pi\n",
    "\n",
    "# area = pi*r*r\n",
    "\n",
    "\n",
    "def area(r):\n",
    "    return pi * r * r\n",
    "\n",
    "print(f\"Area = {area(5)}\")"
   ]
  },
  {
   "cell_type": "code",
   "execution_count": 11,
   "id": "2e161874",
   "metadata": {},
   "outputs": [
    {
     "name": "stdout",
     "output_type": "stream",
     "text": [
      "John Doe reversed - Doe John\n",
      "Will Harrington reversed - Harrington Will\n"
     ]
    }
   ],
   "source": [
    "# reverse full name\n",
    "\n",
    "def rev_name(first, last):\n",
    "    return f\"{last} {first}\"\n",
    "\n",
    "print(f\"John Doe reversed - {rev_name('John', 'Doe')}\")\n",
    "\n",
    "fname = \"Will\"\n",
    "\n",
    "lname = \"Harrington\"\n",
    "\n",
    "print(f\"{fname} {lname} reversed - {rev_name(fname,lname)}\")"
   ]
  },
  {
   "cell_type": "code",
   "execution_count": 12,
   "id": "090da479",
   "metadata": {},
   "outputs": [
    {
     "name": "stdout",
     "output_type": "stream",
     "text": [
      "(['apple', 'banana', 'cherry'], ('apple', 'banana', 'cherry'))\n"
     ]
    }
   ],
   "source": [
    "# list and tuple generator\n",
    "\n",
    "def list_tup_gen(string):\n",
    "    lst = string.split(\",\")\n",
    "    tup = tuple(lst)\n",
    "\n",
    "    return lst, tup\n",
    "\n",
    "print(list_tup_gen(\"apple,banana,cherry\"))"
   ]
  },
  {
   "cell_type": "code",
   "execution_count": 13,
   "id": "c7eeae3f",
   "metadata": {},
   "outputs": [
    {
     "name": "stdout",
     "output_type": "stream",
     "text": [
      "Ext of py.exe is exe\n"
     ]
    }
   ],
   "source": [
    "# file ext extractor\n",
    "\n",
    "def file_ext(filename):\n",
    "    return filename.split(\".\")[-1]\n",
    "\n",
    "\n",
    "file = \"py.exe\"\n",
    "print(f\"Ext of {file} is {file_ext(file)}\")"
   ]
  },
  {
   "cell_type": "code",
   "execution_count": 14,
   "id": "2642a2de",
   "metadata": {},
   "outputs": [
    {
     "name": "stdout",
     "output_type": "stream",
     "text": [
      "First and last of ['Red', 'Green', 'White', 'Black'] is ('Red', 'Black')\n"
     ]
    }
   ],
   "source": [
    "# first and last colors\n",
    "\n",
    "def first_last(colors):\n",
    "    return colors[0], colors[-1]\n",
    "\n",
    "\n",
    "color_list = [\"Red\",\"Green\",\"White\" ,\"Black\"]\n",
    "\n",
    "print(f\"First and last of {color_list} is {first_last(color_list)}\")"
   ]
  },
  {
   "cell_type": "code",
   "execution_count": 18,
   "id": "b5e7c3ba",
   "metadata": {},
   "outputs": [
    {
     "name": "stdout",
     "output_type": "stream",
     "text": [
      "exam will schedule on 2014-12-11 00:00:00\n"
     ]
    }
   ],
   "source": [
    "# date extractor\n",
    "\n",
    "from datetime import datetime\n",
    "\n",
    "exam_st_date = (11, 12, 2014)\n",
    "\n",
    "exam_st = datetime(exam_st_date[2], exam_st_date[1],exam_st_date[0])\n",
    "\n",
    "print(f\"exam will schedule on {exam_st}\")"
   ]
  },
  {
   "cell_type": "code",
   "execution_count": 19,
   "id": "7237e996",
   "metadata": {},
   "outputs": [
    {
     "data": {
      "text/plain": [
       "datetime.datetime(2014, 12, 11, 0, 0)"
      ]
     },
     "execution_count": 19,
     "metadata": {},
     "output_type": "execute_result"
    }
   ],
   "source": [
    "exam_st"
   ]
  },
  {
   "cell_type": "code",
   "execution_count": 1,
   "id": "be6ed511",
   "metadata": {},
   "outputs": [
    {
     "name": "stdout",
     "output_type": "stream",
     "text": [
      "Step 1: 5\n",
      "Step 2: 55\n",
      "Step 3: 555\n",
      "\n",
      "Final Sum: 615\n"
     ]
    }
   ],
   "source": [
    "# number expansion calculator \n",
    "\n",
    "def expansion(number, count):\n",
    "    total = 0\n",
    "    num_str = str(number)\n",
    "    current = \"\"\n",
    "    \n",
    "    for i in range(1, count + 1):\n",
    "        current += num_str\n",
    "        total += int(current)\n",
    "        print(f\"Step {i}: {current}\")\n",
    "    \n",
    "    return total\n",
    "\n",
    "number = 5\n",
    "count = 3\n",
    "result = expansion(number, count)\n",
    "print(f\"\\nFinal Sum: {result}\")\n"
   ]
  },
  {
   "cell_type": "code",
   "execution_count": 3,
   "id": "94aff8e5",
   "metadata": {},
   "outputs": [
    {
     "name": "stdout",
     "output_type": "stream",
     "text": [
      "Function's doc abs - Return the absolute value of the argument.\n"
     ]
    }
   ],
   "source": [
    "# Function Documentation Printer\n",
    "\n",
    "def documentation(func):\n",
    "    return func.__doc__\n",
    "\n",
    "print(f\"Function's doc abs - {documentation(abs)}\")"
   ]
  },
  {
   "cell_type": "code",
   "execution_count": 8,
   "id": "6e0956de",
   "metadata": {},
   "outputs": [
    {
     "name": "stdout",
     "output_type": "stream",
     "text": [
      "Calendar month for 7 of 2025 \n",
      "     July 2025\n",
      "Mo Tu We Th Fr Sa Su\n",
      "    1  2  3  4  5  6\n",
      " 7  8  9 10 11 12 13\n",
      "14 15 16 17 18 19 20\n",
      "21 22 23 24 25 26 27\n",
      "28 29 30 31\n",
      "\n"
     ]
    }
   ],
   "source": [
    "# calendar month\n",
    "\n",
    "import calendar\n",
    "\n",
    "month = 7\n",
    "year = 2025\n",
    "\n",
    "print(f\"Calendar month for {month} of {year} \\n{calendar.month(year, month)}\")"
   ]
  },
  {
   "cell_type": "code",
   "execution_count": 9,
   "id": "87f0eab5",
   "metadata": {},
   "outputs": [
    {
     "name": "stdout",
     "output_type": "stream",
     "text": [
      "9 days, 0:00:00\n"
     ]
    }
   ],
   "source": [
    "# Days Between Dates\n",
    "\n",
    "from datetime import date\n",
    "\n",
    "sample_date1 = date(2014, 7, 2)\n",
    "sample_date2 = date(2014, 7, 11)\n",
    "\n",
    "print(sample_date2 - sample_date1)"
   ]
  },
  {
   "cell_type": "code",
   "execution_count": 1,
   "id": "f1f0e81d",
   "metadata": {},
   "outputs": [
    {
     "name": "stdout",
     "output_type": "stream",
     "text": [
      "Sphere - 904.7786842338603\n"
     ]
    }
   ],
   "source": [
    "# Sphere Volume Calculator\n",
    "\n",
    "from math import pi\n",
    "\n",
    "def sphere(r):\n",
    "    return (4/3)*pi*(r**3)\n",
    "\n",
    "print(f\"Sphere - {sphere(6)}\")"
   ]
  },
  {
   "cell_type": "code",
   "execution_count": null,
   "id": "f41d9d88",
   "metadata": {},
   "outputs": [
    {
     "name": "stdout",
     "output_type": "stream",
     "text": [
      "8\n",
      "12\n"
     ]
    }
   ],
   "source": [
    "# difference from 17\n",
    "\n",
    "def diff17(num):\n",
    "    result = (num - 17)*2 if num > 17 else (17 - num)\n",
    "    return result\n",
    "\n",
    "print(diff17(21))\n",
    "\n",
    "print(diff17(5))"
   ]
  },
  {
   "cell_type": "code",
   "execution_count": null,
   "id": "2b32fb9d",
   "metadata": {},
   "outputs": [
    {
     "name": "stdout",
     "output_type": "stream",
     "text": [
      "False\n",
      "True\n",
      "True\n",
      "False\n",
      "True\n",
      "True\n",
      "True\n"
     ]
    }
   ],
   "source": [
    "# Number Range Tester\n",
    "\n",
    "def num_range_100(x):\n",
    "    return (abs((1000 - x)) <= 100) or (abs((2000-x)) <= 100)\n",
    "\n",
    "# diff = 200 - false\n",
    "print(num_range_100(1200))\n",
    "\n",
    "# diff = 100 - true\n",
    "print(num_range_100(1100))\n",
    "\n",
    "# diff = 100 - true\n",
    "print(num_range_100(900))\n",
    "\n",
    "# diff = 500 - false\n",
    "print(num_range_100(500))\n",
    "\n",
    "# diff = 100 - true\n",
    "print(num_range_100(1900))\n",
    "\n",
    "# diff = 100 - true\n",
    "print(num_range_100(2100))\n",
    "\n",
    "# diff = 50 - true\n",
    "print(num_range_100(1050))"
   ]
  },
  {
   "cell_type": "code",
   "execution_count": 7,
   "id": "75a850f7",
   "metadata": {},
   "outputs": [
    {
     "name": "stdout",
     "output_type": "stream",
     "text": [
      "6\n",
      "18\n"
     ]
    }
   ],
   "source": [
    "# triple sum calculator\n",
    "\n",
    "def triple_sum(a:int,b:int,c:int)->int:\n",
    "    if a == b == c:\n",
    "        return (a+b+c)*3\n",
    "    else:\n",
    "        return (a+b+c)\n",
    "    \n",
    "# op = 6\n",
    "print(triple_sum(1,2,3))\n",
    "\n",
    "# op = 18\n",
    "print(triple_sum(2,2,2))"
   ]
  },
  {
   "cell_type": "code",
   "execution_count": 9,
   "id": "086babb8",
   "metadata": {},
   "outputs": [
    {
     "name": "stdout",
     "output_type": "stream",
     "text": [
      "ishello\n",
      "ISit\n"
     ]
    }
   ],
   "source": [
    "# is prefix add\n",
    "\n",
    "def prefix_adder(string):\n",
    "    if string[:2].lower() == \"is\":\n",
    "        return string\n",
    "    else:\n",
    "        return \"is\"+string\n",
    "    \n",
    "\n",
    "print(prefix_adder(\"hello\"))\n",
    "\n",
    "\n",
    "print(prefix_adder(\"ISit\"))"
   ]
  },
  {
   "cell_type": "code",
   "execution_count": 13,
   "id": "0582f811",
   "metadata": {},
   "outputs": [
    {
     "name": "stdout",
     "output_type": "stream",
     "text": [
      "hohoho\n"
     ]
    }
   ],
   "source": [
    "# String Copy Generator\n",
    "\n",
    "def str_copy(string:str,n:int):\n",
    "    copy = \"\"\n",
    "    for i in range(n):\n",
    "        copy = copy + string\n",
    "\n",
    "    return copy\n",
    "\n",
    "print(str_copy(\"ho\",3))"
   ]
  },
  {
   "cell_type": "code",
   "execution_count": 1,
   "id": "94f995cc",
   "metadata": {},
   "outputs": [
    {
     "name": "stdout",
     "output_type": "stream",
     "text": [
      "odd\n",
      "even\n"
     ]
    }
   ],
   "source": [
    "# Even or Odd Checker\n",
    "\n",
    "def even_or_odd(number:int):\n",
    "    return \"odd\" if number % 2 ==0 else \"even\"\n",
    "\n",
    "print(even_or_odd(10))\n",
    "\n",
    "print(even_or_odd(7))"
   ]
  },
  {
   "cell_type": "code",
   "execution_count": 18,
   "id": "8f46d923",
   "metadata": {},
   "outputs": [
    {
     "name": "stdout",
     "output_type": "stream",
     "text": [
      "2\n"
     ]
    }
   ],
   "source": [
    "# Count 4 in List\n",
    "\n",
    "def count4(lst : list):\n",
    "    count = 0\n",
    "    for number in lst:\n",
    "        if number==4:\n",
    "            count+=1\n",
    "\n",
    "    return count\n",
    "\n",
    "print(count4([1,3,4,0,44,2,4,2,1]))"
   ]
  },
  {
   "cell_type": "code",
   "execution_count": 6,
   "id": "5abcb81e",
   "metadata": {},
   "outputs": [
    {
     "name": "stdout",
     "output_type": "stream",
     "text": [
      "hehehe\n",
      "xxxx\n"
     ]
    }
   ],
   "source": [
    "# String Prefix Copies\n",
    "\n",
    "def ncopies(string,n):\n",
    "    return string*n if len(string) <= 2 else (string[:2])*n\n",
    "\n",
    "print(ncopies(\"hello\", 3))\n",
    "\n",
    "print(ncopies(\"x\",4))\n",
    "    "
   ]
  },
  {
   "cell_type": "code",
   "execution_count": 8,
   "id": "afa1861c",
   "metadata": {},
   "outputs": [
    {
     "name": "stdout",
     "output_type": "stream",
     "text": [
      "False\n",
      "True\n"
     ]
    }
   ],
   "source": [
    "# Vowel Tester\n",
    "\n",
    "vowels = 'aeiou'\n",
    "\n",
    "def check_vowel(char):\n",
    "    if char in vowels:\n",
    "        return True\n",
    "    else:\n",
    "        return False\n",
    "    \n",
    "print(check_vowel(\"t\"))\n",
    "\n",
    "print(check_vowel(\"o\"))"
   ]
  },
  {
   "cell_type": "code",
   "execution_count": 12,
   "id": "54483659",
   "metadata": {},
   "outputs": [
    {
     "name": "stdout",
     "output_type": "stream",
     "text": [
      "False\n",
      "True\n"
     ]
    }
   ],
   "source": [
    "# Value in Group Tester\n",
    "\n",
    "def find_the_number(lst,target):\n",
    "    return True if target in lst else False\n",
    "\n",
    "print(find_the_number([2,31,5,21],1))\n",
    "\n",
    "print(find_the_number([2,31,5,21],31))"
   ]
  },
  {
   "cell_type": "code",
   "execution_count": 20,
   "id": "5574273d",
   "metadata": {},
   "outputs": [
    {
     "name": "stdout",
     "output_type": "stream",
     "text": [
      "**\n",
      "***\n",
      "****\n"
     ]
    }
   ],
   "source": [
    "# List Histogram\n",
    "\n",
    "def hist_gram(lst):\n",
    "    for i in lst:\n",
    "        print(\"*\"*i)\n",
    "\n",
    "hist_gram([2,3,4])"
   ]
  },
  {
   "cell_type": "code",
   "execution_count": 29,
   "id": "c85da64e",
   "metadata": {},
   "outputs": [
    {
     "name": "stdout",
     "output_type": "stream",
     "text": [
      "heisacat\n",
      "122.29\n"
     ]
    }
   ],
   "source": [
    "# List to String Concatenator\n",
    "\n",
    "def list_to_str(lst):\n",
    "    result = \"\"\n",
    "    lst_loop = []\n",
    "    for i in lst:\n",
    "        lst_loop.append(i)\n",
    "        result = \"\".join(lst_loop)\n",
    "        # print(result)\n",
    "    print(result)\n",
    "\n",
    "\n",
    "list_to_str([\"he\", \"is\", \"a\", \"cat\"])\n",
    "\n",
    "\n",
    "\n",
    "def list_to_str_num(lst):\n",
    "    result = \"\"\n",
    "    \n",
    "    for i in lst:\n",
    "        result += str(i)\n",
    "\n",
    "    print(result)\n",
    "\n",
    "list_to_str_num([1,2,2.2,9])"
   ]
  },
  {
   "cell_type": "code",
   "execution_count": 30,
   "id": "121a175f",
   "metadata": {},
   "outputs": [
    {
     "name": "stdout",
     "output_type": "stream",
     "text": [
      "[386, 462, 418, 344, 236, 566, 978, 328, 162, 758, 918]\n"
     ]
    }
   ],
   "source": [
    "# Even Numbers Until 237\n",
    "\n",
    "def even_till_237(lst):\n",
    "    result = []\n",
    "    for num in lst:\n",
    "        if num == 237:\n",
    "            break\n",
    "        else:\n",
    "            if num % 2 == 0:\n",
    "                result.append(num)\n",
    "\n",
    "    return result\n",
    "\n",
    "numbers = [386, 462, 47, 418, 907, 344, 236, 375, 823, 566, 597, 978, 328, 615, 953, 345, 399, 162, 758, 219, 918, 237, 412, 566, 826, 248, 866, 950, 626, 949, 687, 217, 815, 67, 104, 58, 512, 24, 892, 894, 767, 553, 81, 379, 843, 831, 445, 742, 717, 958,743, 527\n",
    "    ]\n",
    "\n",
    "print(even_till_237(numbers))\n"
   ]
  },
  {
   "cell_type": "code",
   "execution_count": 32,
   "id": "c6e87b48",
   "metadata": {},
   "outputs": [
    {
     "name": "stdout",
     "output_type": "stream",
     "text": [
      "{'White', 'Black'}\n",
      "{'Green'}\n"
     ]
    }
   ],
   "source": [
    "# Unique Colors Finder\n",
    "color_list_1 = set([\"White\", \"Black\", \"Red\"])\n",
    "color_list_2 = set([\"Red\", \"Green\"])\n",
    "\n",
    "def unique_cols(lst1, lst2):\n",
    "    return lst1.difference(lst2)\n",
    "\n",
    "print(unique_cols(color_list_1, color_list_2)) # one not in two\n",
    "\n",
    "print(unique_cols(color_list_2, color_list_1)) # two not in one"
   ]
  },
  {
   "cell_type": "code",
   "execution_count": null,
   "id": "7f1852bc",
   "metadata": {},
   "outputs": [],
   "source": [
    "# Triangle Area Calculator\n",
    "\n"
   ]
  }
 ],
 "metadata": {
  "kernelspec": {
   "display_name": "env",
   "language": "python",
   "name": "python3"
  },
  "language_info": {
   "codemirror_mode": {
    "name": "ipython",
    "version": 3
   },
   "file_extension": ".py",
   "mimetype": "text/x-python",
   "name": "python",
   "nbconvert_exporter": "python",
   "pygments_lexer": "ipython3",
   "version": "3.12.10"
  }
 },
 "nbformat": 4,
 "nbformat_minor": 5
}
