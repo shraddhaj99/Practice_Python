{
 "cells": [
  {
   "cell_type": "markdown",
   "id": "5476e7cc",
   "metadata": {},
   "source": [
    "Python Basic - I"
   ]
  },
  {
   "cell_type": "code",
   "execution_count": 6,
   "id": "69e9ed57",
   "metadata": {},
   "outputs": [
    {
     "name": "stdout",
     "output_type": "stream",
     "text": [
      "Python version is 3.13.4 (tags/v3.13.4:8a526ec, Jun  3 2025, 17:46:04) [MSC v.1943 64 bit (AMD64)]\n"
     ]
    }
   ],
   "source": [
    "# version checker\n",
    "import sys\n",
    "\n",
    "print(\"Python version is\", sys.version)"
   ]
  },
  {
   "cell_type": "code",
   "execution_count": 7,
   "id": "c7e4a033",
   "metadata": {},
   "outputs": [
    {
     "name": "stdout",
     "output_type": "stream",
     "text": [
      "2025-07-07 11:50:57.118021\n"
     ]
    }
   ],
   "source": [
    "# current date time \n",
    "\n",
    "from datetime import datetime\n",
    "\n",
    "now = datetime.now()\n",
    "\n",
    "print(now)"
   ]
  },
  {
   "cell_type": "code",
   "execution_count": 8,
   "id": "2e76734a",
   "metadata": {},
   "outputs": [
    {
     "name": "stdout",
     "output_type": "stream",
     "text": [
      "Area = 78.53981633974483\n"
     ]
    }
   ],
   "source": [
    "# circle area calculator\n",
    "\n",
    "from math import pi\n",
    "\n",
    "# area = pi*r*r\n",
    "\n",
    "\n",
    "def area(r):\n",
    "    return pi * r * r\n",
    "\n",
    "print(f\"Area = {area(5)}\")"
   ]
  },
  {
   "cell_type": "code",
   "execution_count": 11,
   "id": "2e161874",
   "metadata": {},
   "outputs": [
    {
     "name": "stdout",
     "output_type": "stream",
     "text": [
      "John Doe reversed - Doe John\n",
      "Will Harrington reversed - Harrington Will\n"
     ]
    }
   ],
   "source": [
    "# reverse full name\n",
    "\n",
    "def rev_name(first, last):\n",
    "    return f\"{last} {first}\"\n",
    "\n",
    "print(f\"John Doe reversed - {rev_name('John', 'Doe')}\")\n",
    "\n",
    "fname = \"Will\"\n",
    "\n",
    "lname = \"Harrington\"\n",
    "\n",
    "print(f\"{fname} {lname} reversed - {rev_name(fname,lname)}\")"
   ]
  },
  {
   "cell_type": "code",
   "execution_count": 12,
   "id": "090da479",
   "metadata": {},
   "outputs": [
    {
     "name": "stdout",
     "output_type": "stream",
     "text": [
      "(['apple', 'banana', 'cherry'], ('apple', 'banana', 'cherry'))\n"
     ]
    }
   ],
   "source": [
    "# list and tuple generator\n",
    "\n",
    "def list_tup_gen(string):\n",
    "    lst = string.split(\",\")\n",
    "    tup = tuple(lst)\n",
    "\n",
    "    return lst, tup\n",
    "\n",
    "print(list_tup_gen(\"apple,banana,cherry\"))"
   ]
  },
  {
   "cell_type": "code",
   "execution_count": 13,
   "id": "c7eeae3f",
   "metadata": {},
   "outputs": [
    {
     "name": "stdout",
     "output_type": "stream",
     "text": [
      "Ext of py.exe is exe\n"
     ]
    }
   ],
   "source": [
    "# file ext extractor\n",
    "\n",
    "def file_ext(filename):\n",
    "    return filename.split(\".\")[-1]\n",
    "\n",
    "\n",
    "file = \"py.exe\"\n",
    "print(f\"Ext of {file} is {file_ext(file)}\")"
   ]
  },
  {
   "cell_type": "code",
   "execution_count": 14,
   "id": "2642a2de",
   "metadata": {},
   "outputs": [
    {
     "name": "stdout",
     "output_type": "stream",
     "text": [
      "First and last of ['Red', 'Green', 'White', 'Black'] is ('Red', 'Black')\n"
     ]
    }
   ],
   "source": [
    "# first and last colors\n",
    "\n",
    "def first_last(colors):\n",
    "    return colors[0], colors[-1]\n",
    "\n",
    "\n",
    "color_list = [\"Red\",\"Green\",\"White\" ,\"Black\"]\n",
    "\n",
    "print(f\"First and last of {color_list} is {first_last(color_list)}\")"
   ]
  },
  {
   "cell_type": "code",
   "execution_count": 18,
   "id": "b5e7c3ba",
   "metadata": {},
   "outputs": [
    {
     "name": "stdout",
     "output_type": "stream",
     "text": [
      "exam will schedule on 2014-12-11 00:00:00\n"
     ]
    }
   ],
   "source": [
    "# date extractor\n",
    "\n",
    "from datetime import datetime\n",
    "\n",
    "exam_st_date = (11, 12, 2014)\n",
    "\n",
    "exam_st = datetime(exam_st_date[2], exam_st_date[1],exam_st_date[0])\n",
    "\n",
    "print(f\"exam will schedule on {exam_st}\")"
   ]
  },
  {
   "cell_type": "code",
   "execution_count": 19,
   "id": "7237e996",
   "metadata": {},
   "outputs": [
    {
     "data": {
      "text/plain": [
       "datetime.datetime(2014, 12, 11, 0, 0)"
      ]
     },
     "execution_count": 19,
     "metadata": {},
     "output_type": "execute_result"
    }
   ],
   "source": [
    "exam_st"
   ]
  },
  {
   "cell_type": "code",
   "execution_count": 1,
   "id": "be6ed511",
   "metadata": {},
   "outputs": [
    {
     "name": "stdout",
     "output_type": "stream",
     "text": [
      "Step 1: 5\n",
      "Step 2: 55\n",
      "Step 3: 555\n",
      "\n",
      "Final Sum: 615\n"
     ]
    }
   ],
   "source": [
    "# number expansion calculator \n",
    "\n",
    "def expansion(number, count):\n",
    "    total = 0\n",
    "    num_str = str(number)\n",
    "    current = \"\"\n",
    "    \n",
    "    for i in range(1, count + 1):\n",
    "        current += num_str\n",
    "        total += int(current)\n",
    "        print(f\"Step {i}: {current}\")\n",
    "    \n",
    "    return total\n",
    "\n",
    "number = 5\n",
    "count = 3\n",
    "result = expansion(number, count)\n",
    "print(f\"\\nFinal Sum: {result}\")\n"
   ]
  },
  {
   "cell_type": "code",
   "execution_count": 3,
   "id": "94aff8e5",
   "metadata": {},
   "outputs": [
    {
     "name": "stdout",
     "output_type": "stream",
     "text": [
      "Function's doc abs - Return the absolute value of the argument.\n"
     ]
    }
   ],
   "source": [
    "# Function Documentation Printer\n",
    "\n",
    "def documentation(func):\n",
    "    return func.__doc__\n",
    "\n",
    "print(f\"Function's doc abs - {documentation(abs)}\")"
   ]
  },
  {
   "cell_type": "code",
   "execution_count": 8,
   "id": "6e0956de",
   "metadata": {},
   "outputs": [
    {
     "name": "stdout",
     "output_type": "stream",
     "text": [
      "Calendar month for 7 of 2025 \n",
      "     July 2025\n",
      "Mo Tu We Th Fr Sa Su\n",
      "    1  2  3  4  5  6\n",
      " 7  8  9 10 11 12 13\n",
      "14 15 16 17 18 19 20\n",
      "21 22 23 24 25 26 27\n",
      "28 29 30 31\n",
      "\n"
     ]
    }
   ],
   "source": [
    "# calendar month\n",
    "\n",
    "import calendar\n",
    "\n",
    "month = 7\n",
    "year = 2025\n",
    "\n",
    "print(f\"Calendar month for {month} of {year} \\n{calendar.month(year, month)}\")"
   ]
  },
  {
   "cell_type": "code",
   "execution_count": null,
   "id": "87f0eab5",
   "metadata": {},
   "outputs": [],
   "source": []
  }
 ],
 "metadata": {
  "kernelspec": {
   "display_name": "env",
   "language": "python",
   "name": "python3"
  },
  "language_info": {
   "codemirror_mode": {
    "name": "ipython",
    "version": 3
   },
   "file_extension": ".py",
   "mimetype": "text/x-python",
   "name": "python",
   "nbconvert_exporter": "python",
   "pygments_lexer": "ipython3",
   "version": "3.13.4"
  }
 },
 "nbformat": 4,
 "nbformat_minor": 5
}
