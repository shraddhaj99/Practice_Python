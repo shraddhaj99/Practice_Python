{
 "cells": [
  {
   "cell_type": "markdown",
   "id": "0b537026",
   "metadata": {},
   "source": [
    "A regular expression is a special text string for describing a search pattern"
   ]
  },
  {
   "cell_type": "markdown",
   "id": "733bbe89",
   "metadata": {},
   "source": [
    "* Used to search for a specific string in a large amount of data. \n",
    "* Verify whether that is in a particular format or not\n",
    "* Find and replace it with another string\n",
    "* Format the data into a proper form for importing"
   ]
  },
  {
   "cell_type": "markdown",
   "id": "cdef7364",
   "metadata": {},
   "source": [
    "The string-\n",
    "\n",
    "Janice is 22 and Theon is 33\n",
    "\n",
    "Gabriel is 44 and Joey is 21\n",
    "\n",
    "Convert it into a dictionary:\n",
    "> {'Janice': 22, 'Theon':33, 'Gabriel':44, 'Joey':21}"
   ]
  },
  {
   "cell_type": "markdown",
   "id": "28392732",
   "metadata": {},
   "source": [
    "Every name starts with an uppercase letter and age is represented by integers.\n"
   ]
  },
  {
   "cell_type": "markdown",
   "id": "28758884",
   "metadata": {},
   "source": [
    "### findall-\n",
    "\n",
    "returns list of matches\n",
    "\n",
    "![](https://www.guru99.com/images/Pythonnew/Python14.6.png)"
   ]
  },
  {
   "cell_type": "code",
   "execution_count": 1,
   "id": "e4aaa385",
   "metadata": {},
   "outputs": [],
   "source": [
    "import re"
   ]
  },
  {
   "cell_type": "code",
   "execution_count": 2,
   "id": "fe55d1d3",
   "metadata": {},
   "outputs": [],
   "source": [
    "nameAge = '''\n",
    "Janice is 22 and Theon is 33\n",
    "Gabriel is 44 and Joey is 21\n",
    "'''"
   ]
  },
  {
   "cell_type": "code",
   "execution_count": 3,
   "id": "cc0908cc",
   "metadata": {},
   "outputs": [],
   "source": [
    "ages = re.findall(r'\\d{1,3}', nameAge)\n",
    "names = re.findall(r'[A-Z][a-z]*',nameAge )"
   ]
  },
  {
   "cell_type": "code",
   "execution_count": 4,
   "id": "71805ef0",
   "metadata": {},
   "outputs": [],
   "source": [
    "ageDict = {}"
   ]
  },
  {
   "cell_type": "code",
   "execution_count": 5,
   "id": "31178006",
   "metadata": {},
   "outputs": [],
   "source": [
    "x = 0"
   ]
  },
  {
   "cell_type": "code",
   "execution_count": 7,
   "id": "42c5db3c",
   "metadata": {},
   "outputs": [],
   "source": [
    "for eachname in names:\n",
    "    \n",
    "    ageDict[eachname] = ages[x]\n",
    "    x+=1"
   ]
  },
  {
   "cell_type": "code",
   "execution_count": 8,
   "id": "2dbd3372",
   "metadata": {},
   "outputs": [
    {
     "name": "stdout",
     "output_type": "stream",
     "text": [
      "{'Janice': '22', 'Theon': '33', 'Gabriel': '44', 'Joey': '21'}\n"
     ]
    }
   ],
   "source": [
    "print(ageDict)"
   ]
  },
  {
   "cell_type": "markdown",
   "id": "676cecc3",
   "metadata": {},
   "source": [
    "### search-\n",
    "searches for given pattern in string\n",
    "\n",
    "![](https://www.guru99.com/images/Pythonnew/Python14.5.png)"
   ]
  },
  {
   "cell_type": "code",
   "execution_count": 9,
   "id": "522e8ea0",
   "metadata": {},
   "outputs": [
    {
     "name": "stdout",
     "output_type": "stream",
     "text": [
      "There is inform\n"
     ]
    }
   ],
   "source": [
    "if re.search(\"inform\", \"we need to inform him with the latest information\"):\n",
    "    print(\"There is inform\")"
   ]
  },
  {
   "cell_type": "code",
   "execution_count": 10,
   "id": "1c08b397",
   "metadata": {},
   "outputs": [],
   "source": [
    "allinform  = re.findall(\"inform\", \"we need to inform him with the latest information\") #returns a list of matches"
   ]
  },
  {
   "cell_type": "code",
   "execution_count": 11,
   "id": "2e6f7114",
   "metadata": {},
   "outputs": [
    {
     "name": "stdout",
     "output_type": "stream",
     "text": [
      "inform\n",
      "inform\n"
     ]
    }
   ],
   "source": [
    "for i in allinform:\n",
    "    print(i)"
   ]
  },
  {
   "cell_type": "code",
   "execution_count": 13,
   "id": "be0aaa8a",
   "metadata": {},
   "outputs": [],
   "source": [
    "listo = ['sss', 'djdjjd', 'ghej']"
   ]
  },
  {
   "cell_type": "code",
   "execution_count": 14,
   "id": "b3af2cba",
   "metadata": {},
   "outputs": [
    {
     "ename": "TypeError",
     "evalue": "expected string or bytes-like object",
     "output_type": "error",
     "traceback": [
      "\u001b[1;31m---------------------------------------------------------------------------\u001b[0m",
      "\u001b[1;31mTypeError\u001b[0m                                 Traceback (most recent call last)",
      "Cell \u001b[1;32mIn [14], line 1\u001b[0m\n\u001b[1;32m----> 1\u001b[0m \u001b[43mre\u001b[49m\u001b[38;5;241;43m.\u001b[39;49m\u001b[43mfindall\u001b[49m\u001b[43m(\u001b[49m\u001b[38;5;124;43m'\u001b[39;49m\u001b[38;5;124;43mj\u001b[39;49m\u001b[38;5;124;43m'\u001b[39;49m\u001b[43m,\u001b[49m\u001b[43m \u001b[49m\u001b[43mlisto\u001b[49m\u001b[43m)\u001b[49m\n",
      "File \u001b[1;32m~\\AppData\\Local\\Programs\\Python\\Python310\\lib\\re.py:240\u001b[0m, in \u001b[0;36mfindall\u001b[1;34m(pattern, string, flags)\u001b[0m\n\u001b[0;32m    232\u001b[0m \u001b[38;5;28;01mdef\u001b[39;00m \u001b[38;5;21mfindall\u001b[39m(pattern, string, flags\u001b[38;5;241m=\u001b[39m\u001b[38;5;241m0\u001b[39m):\n\u001b[0;32m    233\u001b[0m     \u001b[38;5;124;03m\"\"\"Return a list of all non-overlapping matches in the string.\u001b[39;00m\n\u001b[0;32m    234\u001b[0m \n\u001b[0;32m    235\u001b[0m \u001b[38;5;124;03m    If one or more capturing groups are present in the pattern, return\u001b[39;00m\n\u001b[1;32m   (...)\u001b[0m\n\u001b[0;32m    238\u001b[0m \n\u001b[0;32m    239\u001b[0m \u001b[38;5;124;03m    Empty matches are included in the result.\"\"\"\u001b[39;00m\n\u001b[1;32m--> 240\u001b[0m     \u001b[38;5;28;01mreturn\u001b[39;00m \u001b[43m_compile\u001b[49m\u001b[43m(\u001b[49m\u001b[43mpattern\u001b[49m\u001b[43m,\u001b[49m\u001b[43m \u001b[49m\u001b[43mflags\u001b[49m\u001b[43m)\u001b[49m\u001b[38;5;241;43m.\u001b[39;49m\u001b[43mfindall\u001b[49m\u001b[43m(\u001b[49m\u001b[43mstring\u001b[49m\u001b[43m)\u001b[49m\n",
      "\u001b[1;31mTypeError\u001b[0m: expected string or bytes-like object"
     ]
    }
   ],
   "source": [
    "re.findall('j', listo)"
   ]
  }
 ],
 "metadata": {
  "kernelspec": {
   "display_name": "Python 3 (ipykernel)",
   "language": "python",
   "name": "python3"
  },
  "language_info": {
   "codemirror_mode": {
    "name": "ipython",
    "version": 3
   },
   "file_extension": ".py",
   "mimetype": "text/x-python",
   "name": "python",
   "nbconvert_exporter": "python",
   "pygments_lexer": "ipython3",
   "version": "3.10.6"
  }
 },
 "nbformat": 4,
 "nbformat_minor": 5
}
