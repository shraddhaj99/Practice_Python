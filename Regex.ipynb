{
 "cells": [
  {
   "cell_type": "markdown",
   "id": "1b944b7a",
   "metadata": {},
   "source": [
    "A regular expression is a special text string for describing a search pattern"
   ]
  },
  {
   "cell_type": "markdown",
   "id": "616e8fc3",
   "metadata": {},
   "source": [
    "* Used to search for a specific string in a large amount of data. \n",
    "* Verify whether that is in a particular format or not\n",
    "* Find and replace it with another string\n",
    "* Format the data into a proper form for importing"
   ]
  },
  {
   "cell_type": "markdown",
   "id": "09717575",
   "metadata": {},
   "source": [
    "The string-\n",
    "\n",
    "Janice is 22 and Theon is 33\n",
    "\n",
    "Gabriel is 44 and Joey is 21\n",
    "\n",
    "Convert it into a dictionary:\n",
    "> {'Janice': 22, 'Theon':33, 'Gabriel':44, 'Joey':21}"
   ]
  },
  {
   "cell_type": "markdown",
   "id": "9fff4120",
   "metadata": {},
   "source": [
    "Every name starts with an uppercase letter and age is represented by integers.\n"
   ]
  },
  {
   "cell_type": "markdown",
   "id": "7fff15c8",
   "metadata": {},
   "source": []
  },
  {
   "cell_type": "code",
   "execution_count": 1,
   "id": "91d912fc",
   "metadata": {},
   "outputs": [],
   "source": [
    "import re"
   ]
  },
  {
   "cell_type": "code",
   "execution_count": 2,
   "id": "cb98c9bb",
   "metadata": {},
   "outputs": [],
   "source": [
    "nameAge = '''\n",
    "Janice is 22 and Theon is 33\n",
    "Gabriel is 44 and Joey is 21\n",
    "'''"
   ]
  },
  {
   "cell_type": "code",
   "execution_count": 3,
   "id": "2e0ada5e",
   "metadata": {},
   "outputs": [],
   "source": [
    "ages = re.findall(r'\\d{1,3}', nameAge)\n",
    "names = re.findall(r'[A-Z][a-z]*',nameAge )"
   ]
  },
  {
   "cell_type": "code",
   "execution_count": 4,
   "id": "39761951",
   "metadata": {},
   "outputs": [],
   "source": [
    "ageDict = {}"
   ]
  },
  {
   "cell_type": "code",
   "execution_count": 5,
   "id": "751dd826",
   "metadata": {},
   "outputs": [],
   "source": [
    "x = 0"
   ]
  },
  {
   "cell_type": "code",
   "execution_count": 7,
   "id": "9aefc611",
   "metadata": {},
   "outputs": [],
   "source": [
    "for eachname in names:\n",
    "    \n",
    "    ageDict[eachname] = ages[x]\n",
    "    x+=1"
   ]
  },
  {
   "cell_type": "code",
   "execution_count": 8,
   "id": "a668ce04",
   "metadata": {},
   "outputs": [
    {
     "name": "stdout",
     "output_type": "stream",
     "text": [
      "{'Janice': '22', 'Theon': '33', 'Gabriel': '44', 'Joey': '21'}\n"
     ]
    }
   ],
   "source": [
    "print(ageDict)"
   ]
  },
  {
   "cell_type": "code",
   "execution_count": null,
   "id": "83ef19e6",
   "metadata": {},
   "outputs": [],
   "source": []
  },
  {
   "cell_type": "code",
   "execution_count": null,
   "id": "2837507e",
   "metadata": {},
   "outputs": [],
   "source": []
  }
 ],
 "metadata": {
  "kernelspec": {
   "display_name": "Python 3 (ipykernel)",
   "language": "python",
   "name": "python3"
  },
  "language_info": {
   "codemirror_mode": {
    "name": "ipython",
    "version": 3
   },
   "file_extension": ".py",
   "mimetype": "text/x-python",
   "name": "python",
   "nbconvert_exporter": "python",
   "pygments_lexer": "ipython3",
   "version": "3.10.6"
  }
 },
 "nbformat": 4,
 "nbformat_minor": 5
}
