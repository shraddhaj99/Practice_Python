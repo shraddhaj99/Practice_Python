{
 "cells": [
  {
   "cell_type": "markdown",
   "id": "0b537026",
   "metadata": {},
   "source": [
    "<b>17-10-2022\n",
    "\n",
    "A regular expression is a special text string for describing a search pattern"
   ]
  },
  {
   "cell_type": "code",
   "execution_count": null,
   "id": "d7c6d7ac",
   "metadata": {},
   "outputs": [],
   "source": []
  },
  {
   "cell_type": "markdown",
   "id": "733bbe89",
   "metadata": {},
   "source": [
    "* Used to search for a specific string in a large amount of data. \n",
    "* Verify whether that is in a particular format or not\n",
    "* Find and replace it with another string\n",
    "* Format the data into a proper form for importing"
   ]
  },
  {
   "cell_type": "markdown",
   "id": "cdef7364",
   "metadata": {},
   "source": [
    "The string-\n",
    "\n",
    "Janice is 22 and Theon is 33\n",
    "\n",
    "Gabriel is 44 and Joey is 21\n",
    "\n",
    "Convert it into a dictionary:\n",
    "> {'Janice': 22, 'Theon':33, 'Gabriel':44, 'Joey':21}"
   ]
  },
  {
   "cell_type": "markdown",
   "id": "28392732",
   "metadata": {},
   "source": [
    "Every name starts with an uppercase letter and age is represented by integers.\n"
   ]
  },
  {
   "cell_type": "markdown",
   "id": "28758884",
   "metadata": {},
   "source": [
    "### findall-\n",
    "\n",
    "returns list of matches\n",
    "\n",
    "![](https://www.guru99.com/images/Pythonnew/Python14.6.png)"
   ]
  },
  {
   "cell_type": "code",
   "execution_count": 1,
   "id": "e4aaa385",
   "metadata": {},
   "outputs": [],
   "source": [
    "import re"
   ]
  },
  {
   "cell_type": "code",
   "execution_count": 2,
   "id": "fe55d1d3",
   "metadata": {},
   "outputs": [],
   "source": [
    "nameAge = '''\n",
    "Janice is 22 and Theon is 33\n",
    "Gabriel is 44 and Joey is 21\n",
    "'''"
   ]
  },
  {
   "cell_type": "code",
   "execution_count": 3,
   "id": "cc0908cc",
   "metadata": {},
   "outputs": [],
   "source": [
    "ages = re.findall(r'\\d{1,3}', nameAge)\n",
    "names = re.findall(r'[A-Z][a-z]*',nameAge )"
   ]
  },
  {
   "cell_type": "code",
   "execution_count": 4,
   "id": "71805ef0",
   "metadata": {},
   "outputs": [],
   "source": [
    "ageDict = {}"
   ]
  },
  {
   "cell_type": "code",
   "execution_count": 5,
   "id": "31178006",
   "metadata": {},
   "outputs": [],
   "source": [
    "x = 0"
   ]
  },
  {
   "cell_type": "code",
   "execution_count": 6,
   "id": "42c5db3c",
   "metadata": {},
   "outputs": [],
   "source": [
    "for eachname in names:\n",
    "    \n",
    "    ageDict[eachname] = ages[x]\n",
    "    x+=1"
   ]
  },
  {
   "cell_type": "code",
   "execution_count": 7,
   "id": "2dbd3372",
   "metadata": {},
   "outputs": [
    {
     "name": "stdout",
     "output_type": "stream",
     "text": [
      "{'Janice': '22', 'Theon': '33', 'Gabriel': '44', 'Joey': '21'}\n"
     ]
    }
   ],
   "source": [
    "print(ageDict)"
   ]
  },
  {
   "cell_type": "markdown",
   "id": "676cecc3",
   "metadata": {},
   "source": [
    "### search-\n",
    "searches for given pattern in string\n",
    "\n",
    "![](https://www.guru99.com/images/Pythonnew/Python14.5.png)"
   ]
  },
  {
   "cell_type": "code",
   "execution_count": 8,
   "id": "522e8ea0",
   "metadata": {},
   "outputs": [
    {
     "name": "stdout",
     "output_type": "stream",
     "text": [
      "There is inform\n"
     ]
    }
   ],
   "source": [
    "if re.search(\"inform\", \"we need to inform him with the latest information\"):\n",
    "    print(\"There is inform\")"
   ]
  },
  {
   "cell_type": "code",
   "execution_count": 9,
   "id": "1c08b397",
   "metadata": {},
   "outputs": [],
   "source": [
    "allinform  = re.findall(\"inform\", \"we need to inform him with the latest information\") #returns a list of matches"
   ]
  },
  {
   "cell_type": "code",
   "execution_count": 10,
   "id": "2e6f7114",
   "metadata": {},
   "outputs": [
    {
     "name": "stdout",
     "output_type": "stream",
     "text": [
      "inform\n",
      "inform\n"
     ]
    }
   ],
   "source": [
    "for i in allinform:\n",
    "    print(i)"
   ]
  },
  {
   "cell_type": "markdown",
   "id": "0c500424",
   "metadata": {},
   "source": [
    "<b> 18-10-2022"
   ]
  },
  {
   "cell_type": "markdown",
   "id": "e01b0715",
   "metadata": {},
   "source": [
    "How to generate an iterator?\n",
    "\n",
    "Get beginning and ending index of the match\n",
    "\n",
    "`.span()` returns a tuple containing the start-, and end positions of the match."
   ]
  },
  {
   "cell_type": "code",
   "execution_count": 11,
   "id": "fed0a7f8",
   "metadata": {},
   "outputs": [],
   "source": [
    "string = \"we need to inform him with the latest information\""
   ]
  },
  {
   "cell_type": "code",
   "execution_count": 12,
   "id": "4d79c16e",
   "metadata": {},
   "outputs": [
    {
     "name": "stdout",
     "output_type": "stream",
     "text": [
      "(11, 17)\n",
      "(38, 44)\n"
     ]
    }
   ],
   "source": [
    "for i in re.finditer(\"inform\", string):\n",
    "    tup = i.span()\n",
    "    print(tup)"
   ]
  },
  {
   "cell_type": "markdown",
   "id": "5dd4001d",
   "metadata": {},
   "source": [
    "Thus, this function returned the first index of the word `inform` and last index of the same for both the matches that we've got in the `string`.\n",
    "\n",
    "\n",
    "First, `finditer()` returns the object that we're looking for- inform. Then, `span()` returns the first and last index of the object"
   ]
  },
  {
   "cell_type": "markdown",
   "id": "04574b28",
   "metadata": {},
   "source": [
    "One difference between `finditer` and `findall` is that the former returns regex match objects whereas the other returns a tuple of the matched capturing groups (or the entire match if there are no capturing groups)."
   ]
  },
  {
   "cell_type": "markdown",
   "id": "15cdacec",
   "metadata": {},
   "source": [
    "re.findall(pattern.string)\n",
    "\n",
    "findall() returns all non-overlapping matches of pattern in string as a list of strings.\n",
    "\n",
    "re.finditer()\n",
    "\n",
    "finditer() returns callable object.\n",
    "\n",
    "In both functions, the string is scanned from left to right and matches are returned in order found."
   ]
  },
  {
   "attachments": {
    "metachars.png": {
     "image/png": "[encoded data removed]"
    }
   },
   "cell_type": "markdown",
   "id": "ac9c8c81",
   "metadata": {},
   "source": [
    "### Metachars\n",
    "\n",
    "![metachars.png](attachment:metachars.png)\n",
    "\n",
    "\n",
    "search vs findall- https://www.geeksforgeeks.org/python-regex-re-search-vs-re-findall/?id=discuss"
   ]
  },
  {
   "cell_type": "markdown",
   "id": "ad5cab85",
   "metadata": {},
   "source": [
    "Match words with a particular pattern"
   ]
  },
  {
   "cell_type": "code",
   "execution_count": 13,
   "id": "35d770db",
   "metadata": {},
   "outputs": [],
   "source": [
    "Str = \"Sat, hat, mat, pat, shit\""
   ]
  },
  {
   "cell_type": "code",
   "execution_count": 14,
   "id": "c3e77fa7",
   "metadata": {},
   "outputs": [],
   "source": [
    "at = re.findall(\"[shmp]at\", Str) \n",
    "#[shmp] shows that we have to match s, h, m, p specifically for the words\n",
    "#that start with shmp. Hence, shmp is the character class which we are looking for."
   ]
  },
  {
   "cell_type": "code",
   "execution_count": 15,
   "id": "9ce29b9e",
   "metadata": {},
   "outputs": [
    {
     "name": "stdout",
     "output_type": "stream",
     "text": [
      "hat\n",
      "mat\n",
      "pat\n"
     ]
    }
   ],
   "source": [
    "for i in at:\n",
    "    print(i)"
   ]
  },
  {
   "cell_type": "markdown",
   "id": "11fa45fc",
   "metadata": {},
   "source": [
    "Sat did not get printed as the case of `s` in the character class and actual string is different. "
   ]
  },
  {
   "cell_type": "markdown",
   "id": "b4cfb95d",
   "metadata": {},
   "source": [
    "Match series of range of characters"
   ]
  },
  {
   "cell_type": "code",
   "execution_count": 16,
   "id": "5a04b62a",
   "metadata": {},
   "outputs": [],
   "source": [
    "RangStr = \"Sat, hat, mat, pat\""
   ]
  },
  {
   "cell_type": "code",
   "execution_count": 17,
   "id": "9d234ee2",
   "metadata": {},
   "outputs": [],
   "source": [
    "hnm = re.findall(\"[h-m]at\", RangStr) # all the strings that start from h to m and end with at"
   ]
  },
  {
   "cell_type": "code",
   "execution_count": 18,
   "id": "4ba8b8a3",
   "metadata": {},
   "outputs": [
    {
     "data": {
      "text/plain": [
       "['hat', 'mat']"
      ]
     },
     "execution_count": 18,
     "metadata": {},
     "output_type": "execute_result"
    }
   ],
   "source": [
    "hnm"
   ]
  },
  {
   "cell_type": "markdown",
   "id": "d53cfaa6",
   "metadata": {},
   "source": [
    "Printing series of range of characters other than the match"
   ]
  },
  {
   "cell_type": "code",
   "execution_count": 19,
   "id": "2ae8c954",
   "metadata": {},
   "outputs": [],
   "source": [
    "hm = re.findall(\"[^h-m]at\", RangStr) # ^ indicates not operation"
   ]
  },
  {
   "cell_type": "code",
   "execution_count": 20,
   "id": "70102e81",
   "metadata": {},
   "outputs": [
    {
     "data": {
      "text/plain": [
       "['Sat', 'pat']"
      ]
     },
     "execution_count": 20,
     "metadata": {},
     "output_type": "execute_result"
    }
   ],
   "source": [
    "hm"
   ]
  },
  {
   "cell_type": "markdown",
   "id": "752af805",
   "metadata": {},
   "source": [
    "#### 19-10-2022\n",
    "\n",
    "Replace a string\n",
    "\n",
    "for more- https://pynative.com/python-regex-compile/"
   ]
  },
  {
   "cell_type": "code",
   "execution_count": 21,
   "id": "324428b7",
   "metadata": {},
   "outputs": [],
   "source": [
    "Fooo = 'rat hat mat pat'"
   ]
  },
  {
   "cell_type": "markdown",
   "id": "a0508934",
   "metadata": {},
   "source": [
    "Python’s re.compile() method is used to compile a regular expression pattern provided as a string into a regex pattern object (re.Pattern). Later we can use this pattern object to search for a match inside different target strings using regex methods such as a re.match() or re.search().\n",
    "\n",
    "In simple terms, We can compile a regular expression into a regex object to look for occurrences of the same pattern inside various target strings without rewriting it."
   ]
  },
  {
   "cell_type": "code",
   "execution_count": 22,
   "id": "16423980",
   "metadata": {},
   "outputs": [],
   "source": [
    "reg = re.compile(\"[r]at\") #used to compile a regular expression pattern provided as a string into a regex pattern object"
   ]
  },
  {
   "cell_type": "code",
   "execution_count": 24,
   "id": "d1568425",
   "metadata": {},
   "outputs": [],
   "source": [
    "Fooo = reg.sub(\"food\", Fooo)\n",
    "\n",
    "#sub() substitutes the pattern that is saved in reg object with\n",
    "#the string that is in the parameters of the sub() function.\n",
    "\n",
    "#basically-\n",
    "# compile() saves the [r]at pattern into reg object. \n",
    "# later we use this reg object to substitute with \"food\" using sub()"
   ]
  },
  {
   "cell_type": "code",
   "execution_count": 25,
   "id": "ab4cd485",
   "metadata": {},
   "outputs": [
    {
     "name": "stdout",
     "output_type": "stream",
     "text": [
      "food hat mat pat\n"
     ]
    }
   ],
   "source": [
    "print(Fooo)"
   ]
  },
  {
   "cell_type": "markdown",
   "id": "a2c78c9e",
   "metadata": {},
   "source": [
    "Solving backslash problems"
   ]
  },
  {
   "cell_type": "code",
   "execution_count": 26,
   "id": "da1ae4bd",
   "metadata": {},
   "outputs": [],
   "source": [
    "randstr = \"here is \\\\drogba\""
   ]
  },
  {
   "cell_type": "code",
   "execution_count": 28,
   "id": "cf21ddd4",
   "metadata": {},
   "outputs": [
    {
     "name": "stdout",
     "output_type": "stream",
     "text": [
      "here is \\drogba\n"
     ]
    }
   ],
   "source": [
    "print(randstr)"
   ]
  },
  {
   "cell_type": "markdown",
   "id": "2eec90b9",
   "metadata": {},
   "source": [
    "Here, only one backslash is being printed while the string object has 2 backslashes."
   ]
  },
  {
   "cell_type": "code",
   "execution_count": 29,
   "id": "7dcf143a",
   "metadata": {},
   "outputs": [
    {
     "name": "stdout",
     "output_type": "stream",
     "text": [
      "<re.Match object; span=(8, 15), match='\\\\drogba'>\n"
     ]
    }
   ],
   "source": [
    "print(re.search(r\"\\\\drogba\", randstr))"
   ]
  },
  {
   "cell_type": "markdown",
   "id": "d4230f00",
   "metadata": {},
   "source": [
    "re treats backslash as a special character. Hence, it was able to search and show its match."
   ]
  },
  {
   "cell_type": "markdown",
   "id": "75a9f79c",
   "metadata": {},
   "source": [
    "Match a single character"
   ]
  },
  {
   "cell_type": "code",
   "execution_count": 31,
   "id": "aad1024f",
   "metadata": {},
   "outputs": [],
   "source": [
    "randStr = '''\n",
    "Keep the blue flag\n",
    "flying high\n",
    "Chelsea\n",
    "'''"
   ]
  },
  {
   "cell_type": "code",
   "execution_count": 32,
   "id": "37c5a425",
   "metadata": {},
   "outputs": [
    {
     "name": "stdout",
     "output_type": "stream",
     "text": [
      "\n",
      "Keep the blue flag\n",
      "flying high\n",
      "Chelsea\n",
      "\n"
     ]
    }
   ],
   "source": [
    "print(randStr)"
   ]
  },
  {
   "cell_type": "code",
   "execution_count": 33,
   "id": "277b44ed",
   "metadata": {},
   "outputs": [],
   "source": [
    "#remove the new lines\n",
    "\n",
    "regex = re.compile(\"\\n\") # save the pattern string in regex"
   ]
  },
  {
   "cell_type": "code",
   "execution_count": 35,
   "id": "51744b12",
   "metadata": {},
   "outputs": [],
   "source": [
    "randStr = regex.sub(\" \", randStr) # substitute the pattern with space"
   ]
  },
  {
   "cell_type": "code",
   "execution_count": 36,
   "id": "c7c0f919",
   "metadata": {},
   "outputs": [
    {
     "name": "stdout",
     "output_type": "stream",
     "text": [
      " Keep the blue flag flying high Chelsea \n"
     ]
    }
   ],
   "source": [
    "print(randStr)"
   ]
  },
  {
   "cell_type": "markdown",
   "id": "9bedea7c",
   "metadata": {},
   "source": [
    "* \\b backspace\n",
    "* \\t tab\n",
    "* \\v vertical tab\n",
    "* \\r carriage return\n",
    "* \\f formfeed\n",
    "* \\d matches any number\n",
    "* \\D matches anything but number"
   ]
  },
  {
   "cell_type": "code",
   "execution_count": 37,
   "id": "0212ca58",
   "metadata": {},
   "outputs": [],
   "source": [
    "demo = \"12345\""
   ]
  },
  {
   "cell_type": "code",
   "execution_count": 43,
   "id": "84abfde2",
   "metadata": {},
   "outputs": [
    {
     "name": "stdout",
     "output_type": "stream",
     "text": [
      "Matches: 5\n"
     ]
    }
   ],
   "source": [
    "print(\"Matches:\", len(re.findall(\"\\d\", demo)))\n",
    "# gets all the matches that are numbers in the string demo"
   ]
  },
  {
   "cell_type": "code",
   "execution_count": 44,
   "id": "94b5a98f",
   "metadata": {},
   "outputs": [
    {
     "name": "stdout",
     "output_type": "stream",
     "text": [
      "Matches: 0\n"
     ]
    }
   ],
   "source": [
    "print(\"Matches:\", len(re.findall(\"\\D\", demo)))\n",
    "# gets all the matches except numbers"
   ]
  },
  {
   "cell_type": "markdown",
   "id": "015f386a",
   "metadata": {},
   "source": [
    "Match specific digit"
   ]
  },
  {
   "cell_type": "code",
   "execution_count": 45,
   "id": "3426514a",
   "metadata": {},
   "outputs": [
    {
     "name": "stdout",
     "output_type": "stream",
     "text": [
      "Matches: 1\n"
     ]
    }
   ],
   "source": [
    "#find 5 in the demo\n",
    "print(\"Matches:\", len(re.findall(\"\\d{5}\", demo)))"
   ]
  },
  {
   "cell_type": "markdown",
   "id": "3897b5f7",
   "metadata": {},
   "source": [
    "Match digits with certain range"
   ]
  },
  {
   "cell_type": "code",
   "execution_count": 46,
   "id": "308e1e57",
   "metadata": {},
   "outputs": [],
   "source": [
    "num = \"123 1234 12345 123456 1234567\""
   ]
  },
  {
   "cell_type": "code",
   "execution_count": 47,
   "id": "a2aa1c05",
   "metadata": {},
   "outputs": [
    {
     "name": "stdout",
     "output_type": "stream",
     "text": [
      "Matches: 3\n"
     ]
    }
   ],
   "source": [
    "print(\"Matches:\", len(re.findall(\"\\d{5,7}\", num)))"
   ]
  },
  {
   "cell_type": "markdown",
   "id": "b9417474",
   "metadata": {},
   "source": [
    "Usecase 1: Phone numbers"
   ]
  },
  {
   "cell_type": "markdown",
   "id": "ca237d66",
   "metadata": {},
   "source": [
    "* \\w [a-zA-Z0-9_]\n",
    "* \\W [^a-zA-Z0-9]"
   ]
  },
  {
   "cell_type": "markdown",
   "id": "3ebdcaad",
   "metadata": {},
   "source": [
    "Phone numbers have this format-\n",
    "\n",
    "3 numbers - 3 numbers - 4 numbers"
   ]
  },
  {
   "cell_type": "code",
   "execution_count": 48,
   "id": "3ff9218d",
   "metadata": {},
   "outputs": [],
   "source": [
    "phone  = \"412-555-1212\""
   ]
  },
  {
   "cell_type": "code",
   "execution_count": 57,
   "id": "91c9c8fe",
   "metadata": {},
   "outputs": [],
   "source": [
    "def is_phn(p):\n",
    "    if re.search(\"\\w{3}-\\w{3}-\\w{4}\", p):\n",
    "        print(\"It is a phone number\")\n",
    "    else:\n",
    "        print(\"It is not a phone number\")\n",
    "#count of 3 in the first 2 parts and 4 for last part\n",
    "\n",
    "#you can also use \\d in place of \\w if you want to make the condition stronger."
   ]
  },
  {
   "cell_type": "code",
   "execution_count": 58,
   "id": "1cd291ff",
   "metadata": {},
   "outputs": [
    {
     "name": "stdout",
     "output_type": "stream",
     "text": [
      "It is a phone number\n"
     ]
    }
   ],
   "source": [
    "is_phn(phone\n",
    "      )"
   ]
  },
  {
   "cell_type": "code",
   "execution_count": 59,
   "id": "a33eb6fe",
   "metadata": {},
   "outputs": [
    {
     "name": "stdout",
     "output_type": "stream",
     "text": [
      "It is not a phone number\n"
     ]
    }
   ],
   "source": [
    "p1 = \"233-282822-12\"\n",
    "\n",
    "is_phn(p1)"
   ]
  },
  {
   "cell_type": "markdown",
   "id": "01171c29",
   "metadata": {},
   "source": [
    "Usecase of \\w"
   ]
  },
  {
   "cell_type": "code",
   "execution_count": null,
   "id": "ee1ef2c4",
   "metadata": {},
   "outputs": [],
   "source": [
    "#Whether full name is valid or not\n",
    "#Should have space between first name and last name\n",
    "\n"
   ]
  },
  {
   "cell_type": "code",
   "execution_count": null,
   "id": "9320bb6e",
   "metadata": {},
   "outputs": [],
   "source": []
  },
  {
   "cell_type": "code",
   "execution_count": null,
   "id": "c012f855",
   "metadata": {},
   "outputs": [],
   "source": []
  },
  {
   "cell_type": "code",
   "execution_count": null,
   "id": "d3a04dab",
   "metadata": {},
   "outputs": [],
   "source": []
  },
  {
   "cell_type": "code",
   "execution_count": null,
   "id": "fce52479",
   "metadata": {},
   "outputs": [],
   "source": []
  }
 ],
 "metadata": {
  "kernelspec": {
   "display_name": "Python 3 (ipykernel)",
   "language": "python",
   "name": "python3"
  },
  "language_info": {
   "codemirror_mode": {
    "name": "ipython",
    "version": 3
   },
   "file_extension": ".py",
   "mimetype": "text/x-python",
   "name": "python",
   "nbconvert_exporter": "python",
   "pygments_lexer": "ipython3",
   "version": "3.10.6"
  }
 },
 "nbformat": 4,
 "nbformat_minor": 5
}
